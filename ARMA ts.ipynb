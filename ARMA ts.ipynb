{
 "cells": [
  {
   "cell_type": "code",
   "execution_count": 1,
   "id": "8affa1cf-5bd0-44c1-9788-df1b61a8e877",
   "metadata": {},
   "outputs": [],
   "source": [
    "import pandas as pd"
   ]
  },
  {
   "cell_type": "code",
   "execution_count": 2,
   "id": "4f1b454c-5319-4c2d-a8b0-b1c071d8238e",
   "metadata": {},
   "outputs": [],
   "source": [
    "stk_data=pd.read_csv(\"Tatacoffee13_21.csv\")"
   ]
  },
  {
   "cell_type": "code",
   "execution_count": 3,
   "id": "b3293116-b401-4829-90ba-6114e7ac6fc7",
   "metadata": {},
   "outputs": [
    {
     "data": {
      "text/html": [
       "<div>\n",
       "<style scoped>\n",
       "    .dataframe tbody tr th:only-of-type {\n",
       "        vertical-align: middle;\n",
       "    }\n",
       "\n",
       "    .dataframe tbody tr th {\n",
       "        vertical-align: top;\n",
       "    }\n",
       "\n",
       "    .dataframe thead th {\n",
       "        text-align: right;\n",
       "    }\n",
       "</style>\n",
       "<table border=\"1\" class=\"dataframe\">\n",
       "  <thead>\n",
       "    <tr style=\"text-align: right;\">\n",
       "      <th></th>\n",
       "      <th>Date</th>\n",
       "      <th>Open</th>\n",
       "      <th>High</th>\n",
       "      <th>Low</th>\n",
       "      <th>Close</th>\n",
       "    </tr>\n",
       "  </thead>\n",
       "  <tbody>\n",
       "    <tr>\n",
       "      <th>0</th>\n",
       "      <td>2013-01-01</td>\n",
       "      <td>1410.60</td>\n",
       "      <td>1427.90</td>\n",
       "      <td>1408.30</td>\n",
       "      <td>1415.10</td>\n",
       "    </tr>\n",
       "    <tr>\n",
       "      <th>1</th>\n",
       "      <td>2013-01-02</td>\n",
       "      <td>1421.00</td>\n",
       "      <td>1626.60</td>\n",
       "      <td>1416.15</td>\n",
       "      <td>1607.40</td>\n",
       "    </tr>\n",
       "    <tr>\n",
       "      <th>2</th>\n",
       "      <td>2013-01-03</td>\n",
       "      <td>1632.55</td>\n",
       "      <td>1673.90</td>\n",
       "      <td>1613.05</td>\n",
       "      <td>1626.20</td>\n",
       "    </tr>\n",
       "    <tr>\n",
       "      <th>3</th>\n",
       "      <td>2013-01-04</td>\n",
       "      <td>1627.75</td>\n",
       "      <td>1627.75</td>\n",
       "      <td>1574.60</td>\n",
       "      <td>1579.05</td>\n",
       "    </tr>\n",
       "    <tr>\n",
       "      <th>4</th>\n",
       "      <td>2013-01-07</td>\n",
       "      <td>1580.00</td>\n",
       "      <td>1639.50</td>\n",
       "      <td>1565.50</td>\n",
       "      <td>1595.65</td>\n",
       "    </tr>\n",
       "    <tr>\n",
       "      <th>...</th>\n",
       "      <td>...</td>\n",
       "      <td>...</td>\n",
       "      <td>...</td>\n",
       "      <td>...</td>\n",
       "      <td>...</td>\n",
       "    </tr>\n",
       "    <tr>\n",
       "      <th>2220</th>\n",
       "      <td>2021-12-22</td>\n",
       "      <td>202.90</td>\n",
       "      <td>207.80</td>\n",
       "      <td>201.35</td>\n",
       "      <td>205.00</td>\n",
       "    </tr>\n",
       "    <tr>\n",
       "      <th>2221</th>\n",
       "      <td>2021-12-23</td>\n",
       "      <td>206.00</td>\n",
       "      <td>206.85</td>\n",
       "      <td>202.05</td>\n",
       "      <td>202.95</td>\n",
       "    </tr>\n",
       "    <tr>\n",
       "      <th>2222</th>\n",
       "      <td>2021-12-24</td>\n",
       "      <td>203.90</td>\n",
       "      <td>203.90</td>\n",
       "      <td>199.35</td>\n",
       "      <td>201.00</td>\n",
       "    </tr>\n",
       "    <tr>\n",
       "      <th>2223</th>\n",
       "      <td>2021-12-27</td>\n",
       "      <td>200.00</td>\n",
       "      <td>222.00</td>\n",
       "      <td>196.00</td>\n",
       "      <td>218.35</td>\n",
       "    </tr>\n",
       "    <tr>\n",
       "      <th>2224</th>\n",
       "      <td>2021-12-28</td>\n",
       "      <td>219.65</td>\n",
       "      <td>220.45</td>\n",
       "      <td>211.55</td>\n",
       "      <td>212.35</td>\n",
       "    </tr>\n",
       "  </tbody>\n",
       "</table>\n",
       "<p>2225 rows × 5 columns</p>\n",
       "</div>"
      ],
      "text/plain": [
       "            Date     Open     High      Low    Close\n",
       "0     2013-01-01  1410.60  1427.90  1408.30  1415.10\n",
       "1     2013-01-02  1421.00  1626.60  1416.15  1607.40\n",
       "2     2013-01-03  1632.55  1673.90  1613.05  1626.20\n",
       "3     2013-01-04  1627.75  1627.75  1574.60  1579.05\n",
       "4     2013-01-07  1580.00  1639.50  1565.50  1595.65\n",
       "...          ...      ...      ...      ...      ...\n",
       "2220  2021-12-22   202.90   207.80   201.35   205.00\n",
       "2221  2021-12-23   206.00   206.85   202.05   202.95\n",
       "2222  2021-12-24   203.90   203.90   199.35   201.00\n",
       "2223  2021-12-27   200.00   222.00   196.00   218.35\n",
       "2224  2021-12-28   219.65   220.45   211.55   212.35\n",
       "\n",
       "[2225 rows x 5 columns]"
      ]
     },
     "execution_count": 3,
     "metadata": {},
     "output_type": "execute_result"
    }
   ],
   "source": [
    "stk_data"
   ]
  },
  {
   "cell_type": "code",
   "execution_count": 4,
   "id": "82e3ebae-ed7c-47be-8d51-305dcc509d96",
   "metadata": {},
   "outputs": [],
   "source": [
    "column=\"Close\""
   ]
  },
  {
   "cell_type": "code",
   "execution_count": 5,
   "id": "5fe62a70-1301-45d5-8cd9-65d79b667865",
   "metadata": {},
   "outputs": [
    {
     "name": "stdout",
     "output_type": "stream",
     "text": [
      "Len: (2225, 1)\n"
     ]
    }
   ],
   "source": [
    "from sklearn.preprocessing import MinMaxScaler\n",
    "Ms = MinMaxScaler()\n",
    "data1 = Ms.fit_transform(stk_data[[column]])\n",
    "print(\"Len:\", data1.shape)"
   ]
  },
  {
   "cell_type": "code",
   "execution_count": 6,
   "id": "9392af2e-5148-4b8d-a2b8-ad2c19cec31b",
   "metadata": {},
   "outputs": [
    {
     "name": "stdout",
     "output_type": "stream",
     "text": [
      "Training size: 1780\n",
      "Train length: (1780, 1)\n",
      "Test length: (445, 1)\n"
     ]
    }
   ],
   "source": [
    "# Train/Test split\n",
    "training_size = round(len(data1) * 0.80)\n",
    "print(\"Training size:\", training_size)\n",
    "train = data1[:training_size]\n",
    "test = data1[training_size:]\n",
    "print(\"Train length:\", train.shape)\n",
    "print(\"Test length:\", test.shape)"
   ]
  },
  {
   "cell_type": "code",
   "execution_count": 9,
   "id": "e73a5f4a-a580-4c24-b3d4-406d108f8bbc",
   "metadata": {},
   "outputs": [
    {
     "name": "stdout",
     "output_type": "stream",
     "text": [
      "\n",
      "Testing ARIMA order=(1, 0, 2)\n",
      "RMSE-Testset: 0.05878784979938863\n",
      "maPe-Testset: 158372900914.62173\n",
      "\n",
      "Testing ARIMA order=(1, 0, 1)\n",
      "RMSE-Testset: 0.058541785808884646\n",
      "maPe-Testset: 157968562726.9221\n",
      "\n",
      "Testing ARIMA order=(2, 0, 1)\n",
      "RMSE-Testset: 0.05766461341819089\n",
      "maPe-Testset: 157727282680.60803\n",
      "\n",
      "Testing ARIMA order=(1, 0, 1)\n",
      "RMSE-Testset: 0.058541785808884646\n",
      "maPe-Testset: 157968562726.9221\n"
     ]
    }
   ],
   "source": [
    "from statsmodels.tsa.arima.model import ARIMA\n",
    "# ARIMA orders to test\n",
    "orders = [(1,0,2), (1,0,1), (2,0,1), (1,0,1)]\n",
    "\n",
    "for order in orders:\n",
    "    print(f\"\\nTesting ARIMA order={order}\")\n",
    "    model = ARIMA(train, order=order)\n",
    "    model_fit = model.fit()\n",
    "\n",
    "    # Forecast only for the test set\n",
    "    y_pred = model_fit.predict(start=len(train), end=len(train)+len(test)-1, dynamic=False)\n",
    "\n",
    "    # Evaluate\n",
    "    from stockFunctions import rmsemape\n",
    "    rmsemape(test, y_pred)"
   ]
  },
  {
   "cell_type": "code",
   "execution_count": 10,
   "id": "165e86f1-a473-4546-b3b8-a6a5bcfb0ac8",
   "metadata": {},
   "outputs": [
    {
     "name": "stdout",
     "output_type": "stream",
     "text": [
      "RMSE-Testset: 0.05766461341819089\n",
      "maPe-Testset: 157727282680.60803\n"
     ]
    }
   ],
   "source": [
    "#best arima model\n",
    "from statsmodels.tsa.arima.model import ARIMA\n",
    "from stockFunctions import rmsemape\n",
    "\n",
    "# Fit the best ARIMA model directly\n",
    "model = ARIMA(train, order=(2,0,1))\n",
    "model_fit = model.fit()\n",
    "\n",
    "# Forecast for the test set\n",
    "y_pred = model_fit.predict(start=len(train), end=len(train)+len(test)-1, dynamic=False)\n",
    "\n",
    "# Evaluate performance\n",
    "rmsemape(test, y_pred)\n"
   ]
  },
  {
   "cell_type": "code",
   "execution_count": 12,
   "id": "11402bd2-dc0b-44d3-b482-c51945724115",
   "metadata": {},
   "outputs": [
    {
     "data": {
      "image/png": "[encoded data removed]",
      "text/plain": [
       "<Figure size 1000x500 with 1 Axes>"
      ]
     },
     "metadata": {},
     "output_type": "display_data"
    }
   ],
   "source": [
    "import matplotlib.pyplot as plt\n",
    "# Plot actual vs predicted\n",
    "plt.figure(figsize=(10,5))\n",
    "plt.plot(range(len(train)), train, label='Train')\n",
    "plt.plot(range(len(train), len(train)+len(test)), test, label='Test', color='orange')\n",
    "plt.plot(range(len(train), len(train)+len(test)), y_pred, label='Predicted', color='green')\n",
    "plt.legend()\n",
    "plt.title(\"ARIMA(2,0,1) Forecast vs Actual\")\n",
    "plt.show()"
   ]
  },
  {
   "cell_type": "code",
   "execution_count": 14,
   "id": "00767e62-d9b9-4eeb-9ee5-5f0609c92b1e",
   "metadata": {},
   "outputs": [],
   "source": [
    "y_pred_original = Ms.inverse_transform(y_pred.reshape(-1,1))\n",
    "test_original = Ms.inverse_transform(test.reshape(-1,1))"
   ]
  },
  {
   "cell_type": "code",
   "execution_count": 15,
   "id": "b11f717d-3c46-44f8-9beb-fc804c0afab6",
   "metadata": {},
   "outputs": [],
   "source": [
    "results = pd.DataFrame({\n",
    "    \"Actual\": test_original.flatten(),\n",
    "    \"Predicted\": y_pred_original.flatten()\n",
    "})"
   ]
  },
  {
   "cell_type": "code",
   "execution_count": 16,
   "id": "a98e489d-4134-4865-91ad-ec59b50ad8ca",
   "metadata": {},
   "outputs": [
    {
     "data": {
      "text/html": [
       "<div>\n",
       "<style scoped>\n",
       "    .dataframe tbody tr th:only-of-type {\n",
       "        vertical-align: middle;\n",
       "    }\n",
       "\n",
       "    .dataframe tbody tr th {\n",
       "        vertical-align: top;\n",
       "    }\n",
       "\n",
       "    .dataframe thead th {\n",
       "        text-align: right;\n",
       "    }\n",
       "</style>\n",
       "<table border=\"1\" class=\"dataframe\">\n",
       "  <thead>\n",
       "    <tr style=\"text-align: right;\">\n",
       "      <th></th>\n",
       "      <th>Actual</th>\n",
       "      <th>Predicted</th>\n",
       "    </tr>\n",
       "  </thead>\n",
       "  <tbody>\n",
       "    <tr>\n",
       "      <th>0</th>\n",
       "      <td>64.30</td>\n",
       "      <td>67.924209</td>\n",
       "    </tr>\n",
       "    <tr>\n",
       "      <th>1</th>\n",
       "      <td>63.10</td>\n",
       "      <td>68.986432</td>\n",
       "    </tr>\n",
       "    <tr>\n",
       "      <th>2</th>\n",
       "      <td>60.70</td>\n",
       "      <td>70.063481</td>\n",
       "    </tr>\n",
       "    <tr>\n",
       "      <th>3</th>\n",
       "      <td>58.70</td>\n",
       "      <td>71.131144</td>\n",
       "    </tr>\n",
       "    <tr>\n",
       "      <th>4</th>\n",
       "      <td>59.80</td>\n",
       "      <td>72.197074</td>\n",
       "    </tr>\n",
       "    <tr>\n",
       "      <th>...</th>\n",
       "      <td>...</td>\n",
       "      <td>...</td>\n",
       "    </tr>\n",
       "    <tr>\n",
       "      <th>440</th>\n",
       "      <td>205.00</td>\n",
       "      <td>316.409805</td>\n",
       "    </tr>\n",
       "    <tr>\n",
       "      <th>441</th>\n",
       "      <td>202.95</td>\n",
       "      <td>316.657293</td>\n",
       "    </tr>\n",
       "    <tr>\n",
       "      <th>442</th>\n",
       "      <td>201.00</td>\n",
       "      <td>316.903955</td>\n",
       "    </tr>\n",
       "    <tr>\n",
       "      <th>443</th>\n",
       "      <td>218.35</td>\n",
       "      <td>317.149794</td>\n",
       "    </tr>\n",
       "    <tr>\n",
       "      <th>444</th>\n",
       "      <td>212.35</td>\n",
       "      <td>317.394814</td>\n",
       "    </tr>\n",
       "  </tbody>\n",
       "</table>\n",
       "<p>445 rows × 2 columns</p>\n",
       "</div>"
      ],
      "text/plain": [
       "     Actual   Predicted\n",
       "0     64.30   67.924209\n",
       "1     63.10   68.986432\n",
       "2     60.70   70.063481\n",
       "3     58.70   71.131144\n",
       "4     59.80   72.197074\n",
       "..      ...         ...\n",
       "440  205.00  316.409805\n",
       "441  202.95  316.657293\n",
       "442  201.00  316.903955\n",
       "443  218.35  317.149794\n",
       "444  212.35  317.394814\n",
       "\n",
       "[445 rows x 2 columns]"
      ]
     },
     "execution_count": 16,
     "metadata": {},
     "output_type": "execute_result"
    }
   ],
   "source": [
    "results"
   ]
  },
  {
   "cell_type": "code",
   "execution_count": 17,
   "id": "6159b131-4d97-4d8a-b0a3-abd68a0d6068",
   "metadata": {},
   "outputs": [],
   "source": [
    "forecast = model_fit.predict(len(data1), len(data1)+3)"
   ]
  },
  {
   "cell_type": "code",
   "execution_count": 18,
   "id": "e2de4718-1160-4e58-97af-33df71f79b98",
   "metadata": {},
   "outputs": [
    {
     "data": {
      "text/plain": [
       "array([0.16777522, 0.16792745, 0.16807917, 0.16823039])"
      ]
     },
     "execution_count": 18,
     "metadata": {},
     "output_type": "execute_result"
    }
   ],
   "source": [
    "forecast"
   ]
  },
  {
   "cell_type": "code",
   "execution_count": 19,
   "id": "51432555-da0b-4239-b58b-ebeba2ad1c34",
   "metadata": {},
   "outputs": [
    {
     "name": "stdout",
     "output_type": "stream",
     "text": [
      "[[317.63901668]\n",
      " [317.88240479]\n",
      " [318.1249812 ]\n",
      " [318.36674861]]\n"
     ]
    }
   ],
   "source": [
    "forecast_original = Ms.inverse_transform(forecast.reshape(-1,1))\n",
    "print(forecast_original)\n"
   ]
  },
  {
   "cell_type": "code",
   "execution_count": 23,
   "id": "22423465-8427-43e6-a9b4-6cfbaa4f36f4",
   "metadata": {},
   "outputs": [
    {
     "name": "stdout",
     "output_type": "stream",
     "text": [
      "   Forecasted Price\n",
      "0        317.639017\n",
      "1        317.882405\n",
      "2        318.124981\n",
      "3        318.366749\n"
     ]
    }
   ],
   "source": [
    "forecast_result = pd.DataFrame({\"Forecasted Price\": forecast_original.ravel()})\n",
    "print(forecast_result)"
   ]
  },
  {
   "cell_type": "code",
   "execution_count": null,
   "id": "107fb9ae-fae5-44e0-8fa4-171c96e1fe61",
   "metadata": {},
   "outputs": [],
   "source": []
  }
 ],
 "metadata": {
  "kernelspec": {
   "display_name": "Python 3 (ipykernel)",
   "language": "python",
   "name": "python3"
  },
  "language_info": {
   "codemirror_mode": {
    "name": "ipython",
    "version": 3
   },
   "file_extension": ".py",
   "mimetype": "text/x-python",
   "name": "python",
   "nbconvert_exporter": "python",
   "pygments_lexer": "ipython3",
   "version": "3.10.18"
  }
 },
 "nbformat": 4,
 "nbformat_minor": 5
}
